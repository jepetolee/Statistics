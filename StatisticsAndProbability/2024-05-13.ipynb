{
 "cells": [
  {
   "cell_type": "code",
   "execution_count": 2,
   "id": "489a7838-c9e8-4ca0-a02a-c5bea138a0f0",
   "metadata": {},
   "outputs": [],
   "source": [
    "# 수치 계산\n",
    "import numpy as np\n",
    "import pandas as pd\n",
    "import scipy as sp\n",
    "from scipy import stats\n",
    "# 그래프\n",
    "from matplotlib import pyplot as plt\n",
    "import seaborn as sns\n",
    "sns.set( )\n",
    "# 통계 모델을 추정하는 라이브러리 ( 경고가 나올 수 있음 ) \n",
    "import statsmodels.formula.api as smf\n",
    "import statsmodels.api as sm\n",
    "# 표시 자리수의 지정\n",
    "%precision 3\n",
    "# 그래프를 jupyter Notebook 에 표시하기위한 지정\n",
    "%matplotlib inline"
   ]
  },
  {
   "cell_type": "code",
   "execution_count": 6,
   "id": "d63058d0-7802-4172-b7a3-14ee98f1b51b",
   "metadata": {},
   "outputs": [
    {
     "data": {
      "text/plain": [
       "<seaborn.axisgrid.JointGrid at 0x2665cf1e880>"
      ]
     },
     "execution_count": 6,
     "metadata": {},
     "output_type": "execute_result"
    },
    {
     "data": {
      "image/png": "[encoded data removed]",
      "text/plain": [
       "<Figure size 600x600 with 3 Axes>"
      ]
     },
     "metadata": {},
     "output_type": "display_data"
    }
   ],
   "source": [
    "beer = pd.read_csv(\"./5-1-1-beer.csv\")\n",
    "sns.jointplot(x = \"temperature\", y = \"beer\", data = beer)\n"
   ]
  },
  {
   "cell_type": "code",
   "execution_count": 7,
   "id": "02758238-c99a-4641-aa8c-c3443f9e81b7",
   "metadata": {},
   "outputs": [],
   "source": [
    "import statsmodels.formula.api as smf"
   ]
  },
  {
   "cell_type": "code",
   "execution_count": 8,
   "id": "f500a0ca-705b-419c-b6b2-03c608396a46",
   "metadata": {},
   "outputs": [],
   "source": [
    "lm_model = smf.ols(formula=\"beer ~ temperature\",data = beer).fit()"
   ]
  },
  {
   "cell_type": "code",
   "execution_count": 9,
   "id": "56971dd4-8621-4297-9bf9-185e683797ae",
   "metadata": {},
   "outputs": [
    {
     "data": {
      "text/html": [
       "<table class=\"simpletable\">\n",
       "<caption>OLS Regression Results</caption>\n",
       "<tr>\n",
       "  <th>Dep. Variable:</th>          <td>beer</td>       <th>  R-squared:         </th> <td>   0.504</td>\n",
       "</tr>\n",
       "<tr>\n",
       "  <th>Model:</th>                   <td>OLS</td>       <th>  Adj. R-squared:    </th> <td>   0.486</td>\n",
       "</tr>\n",
       "<tr>\n",
       "  <th>Method:</th>             <td>Least Squares</td>  <th>  F-statistic:       </th> <td>   28.45</td>\n",
       "</tr>\n",
       "<tr>\n",
       "  <th>Date:</th>             <td>Mon, 13 May 2024</td> <th>  Prob (F-statistic):</th> <td>1.11e-05</td>\n",
       "</tr>\n",
       "<tr>\n",
       "  <th>Time:</th>                 <td>11:07:47</td>     <th>  Log-Likelihood:    </th> <td> -102.45</td>\n",
       "</tr>\n",
       "<tr>\n",
       "  <th>No. Observations:</th>      <td>    30</td>      <th>  AIC:               </th> <td>   208.9</td>\n",
       "</tr>\n",
       "<tr>\n",
       "  <th>Df Residuals:</th>          <td>    28</td>      <th>  BIC:               </th> <td>   211.7</td>\n",
       "</tr>\n",
       "<tr>\n",
       "  <th>Df Model:</th>              <td>     1</td>      <th>                     </th>     <td> </td>   \n",
       "</tr>\n",
       "<tr>\n",
       "  <th>Covariance Type:</th>      <td>nonrobust</td>    <th>                     </th>     <td> </td>   \n",
       "</tr>\n",
       "</table>\n",
       "<table class=\"simpletable\">\n",
       "<tr>\n",
       "       <td></td>          <th>coef</th>     <th>std err</th>      <th>t</th>      <th>P>|t|</th>  <th>[0.025</th>    <th>0.975]</th>  \n",
       "</tr>\n",
       "<tr>\n",
       "  <th>Intercept</th>   <td>   34.6102</td> <td>    3.235</td> <td>   10.699</td> <td> 0.000</td> <td>   27.984</td> <td>   41.237</td>\n",
       "</tr>\n",
       "<tr>\n",
       "  <th>temperature</th> <td>    0.7654</td> <td>    0.144</td> <td>    5.334</td> <td> 0.000</td> <td>    0.471</td> <td>    1.059</td>\n",
       "</tr>\n",
       "</table>\n",
       "<table class=\"simpletable\">\n",
       "<tr>\n",
       "  <th>Omnibus:</th>       <td> 0.587</td> <th>  Durbin-Watson:     </th> <td>   1.960</td>\n",
       "</tr>\n",
       "<tr>\n",
       "  <th>Prob(Omnibus):</th> <td> 0.746</td> <th>  Jarque-Bera (JB):  </th> <td>   0.290</td>\n",
       "</tr>\n",
       "<tr>\n",
       "  <th>Skew:</th>          <td>-0.240</td> <th>  Prob(JB):          </th> <td>   0.865</td>\n",
       "</tr>\n",
       "<tr>\n",
       "  <th>Kurtosis:</th>      <td> 2.951</td> <th>  Cond. No.          </th> <td>    52.5</td>\n",
       "</tr>\n",
       "</table><br/><br/>Notes:<br/>[1] Standard Errors assume that the covariance matrix of the errors is correctly specified."
      ],
      "text/plain": [
       "<class 'statsmodels.iolib.summary.Summary'>\n",
       "\"\"\"\n",
       "                            OLS Regression Results                            \n",
       "==============================================================================\n",
       "Dep. Variable:                   beer   R-squared:                       0.504\n",
       "Model:                            OLS   Adj. R-squared:                  0.486\n",
       "Method:                 Least Squares   F-statistic:                     28.45\n",
       "Date:                Mon, 13 May 2024   Prob (F-statistic):           1.11e-05\n",
       "Time:                        11:07:47   Log-Likelihood:                -102.45\n",
       "No. Observations:                  30   AIC:                             208.9\n",
       "Df Residuals:                      28   BIC:                             211.7\n",
       "Df Model:                           1                                         \n",
       "Covariance Type:            nonrobust                                         \n",
       "===============================================================================\n",
       "                  coef    std err          t      P>|t|      [0.025      0.975]\n",
       "-------------------------------------------------------------------------------\n",
       "Intercept      34.6102      3.235     10.699      0.000      27.984      41.237\n",
       "temperature     0.7654      0.144      5.334      0.000       0.471       1.059\n",
       "==============================================================================\n",
       "Omnibus:                        0.587   Durbin-Watson:                   1.960\n",
       "Prob(Omnibus):                  0.746   Jarque-Bera (JB):                0.290\n",
       "Skew:                          -0.240   Prob(JB):                        0.865\n",
       "Kurtosis:                       2.951   Cond. No.                         52.5\n",
       "==============================================================================\n",
       "\n",
       "Notes:\n",
       "[1] Standard Errors assume that the covariance matrix of the errors is correctly specified.\n",
       "\"\"\""
      ]
     },
     "execution_count": 9,
     "metadata": {},
     "output_type": "execute_result"
    }
   ],
   "source": [
    "lm_model.summary()"
   ]
  },
  {
   "cell_type": "code",
   "execution_count": 10,
   "id": "5e27d9c8-3dae-4704-9216-0ba178149da0",
   "metadata": {},
   "outputs": [],
   "source": [
    "null_model = smf.ols(\"beer ~ 1\", data = beer).fit( )\n"
   ]
  },
  {
   "cell_type": "code",
   "execution_count": 13,
   "id": "ab67ba7c-5224-468e-8af5-58abf108b556",
   "metadata": {},
   "outputs": [
    {
     "data": {
      "text/plain": [
       "<seaborn.axisgrid.FacetGrid at 0x2666050eb80>"
      ]
     },
     "execution_count": 13,
     "metadata": {},
     "output_type": "execute_result"
    },
    {
     "data": {
      "image/png": "[encoded data removed]",
      "text/plain": [
       "<Figure size 500x500 with 1 Axes>"
      ]
     },
     "metadata": {},
     "output_type": "display_data"
    }
   ],
   "source": [
    "sns.lmplot(x = \"temperature\", y = \"beer\", data = beer,scatter_kws = {\"color\": \"blue\"}, line_kws = {\"color\": \"red\"})\n"
   ]
  },
  {
   "cell_type": "code",
   "execution_count": 14,
   "id": "dbe504a0-3df5-4ba0-8e90-77d8331abebf",
   "metadata": {},
   "outputs": [
    {
     "data": {
      "text/plain": [
       "array([50.301, 53.746, 42.264, 55.2  , 46.704, 37.825, 44.943, 54.511,\n",
       "       52.445, 41.116, 54.664, 49.23 , 53.21 , 52.445, 41.04 , 52.598,\n",
       "       45.25 , 61.783, 55.43 , 50.301, 42.418, 50.301, 51.143, 40.657,\n",
       "       66.911, 52.904, 62.854, 41.423, 62.472, 39.509])"
      ]
     },
     "execution_count": 14,
     "metadata": {},
     "output_type": "execute_result"
    }
   ],
   "source": [
    "lm_model.predict( )"
   ]
  },
  {
   "cell_type": "code",
   "execution_count": 15,
   "id": "2ad10a7d-9365-4dbb-bb25-d32315adfd43",
   "metadata": {},
   "outputs": [
    {
     "data": {
      "text/plain": [
       "0    34.610215\n",
       "dtype: float64"
      ]
     },
     "execution_count": 15,
     "metadata": {},
     "output_type": "execute_result"
    }
   ],
   "source": [
    "lm_model.predict(pd.DataFrame({\"temperature\":[0]}))"
   ]
  },
  {
   "cell_type": "code",
   "execution_count": 16,
   "id": "9fe3be45-fbad-45c8-8a6f-101765f93ae4",
   "metadata": {},
   "outputs": [
    {
     "data": {
      "text/plain": [
       "Intercept      34.610215\n",
       "temperature     0.765428\n",
       "dtype: float64"
      ]
     },
     "execution_count": 16,
     "metadata": {},
     "output_type": "execute_result"
    }
   ],
   "source": [
    "lm_model.params"
   ]
  },
  {
   "cell_type": "code",
   "execution_count": 18,
   "id": "522ef2f2-a5d7-4537-99c8-0e83fa7a04b7",
   "metadata": {},
   "outputs": [
    {
     "data": {
      "text/plain": [
       "0    49.918767\n",
       "dtype: float64"
      ]
     },
     "execution_count": 18,
     "metadata": {},
     "output_type": "execute_result"
    }
   ],
   "source": [
    "lm_model.predict(pd.DataFrame({\"temperature\":[20]}))\n"
   ]
  },
  {
   "cell_type": "code",
   "execution_count": 17,
   "id": "6a938d04-eb65-457f-aec5-270725ebfc45",
   "metadata": {},
   "outputs": [
    {
     "data": {
      "text/plain": [
       "49.919"
      ]
     },
     "execution_count": 17,
     "metadata": {},
     "output_type": "execute_result"
    }
   ],
   "source": [
    "beta0 = lm_model.params[0]\n",
    "beta1 = lm_model.params[1]\n",
    "temperature = 20\n",
    "beta0 + beta1 * temperature"
   ]
  },
  {
   "cell_type": "code",
   "execution_count": 19,
   "id": "3144656b-f1b3-4f3f-b4a1-4867a096787e",
   "metadata": {},
   "outputs": [
    {
     "data": {
      "text/plain": [
       "0   -5.001481\n",
       "1    5.554095\n",
       "2   -1.864491\n",
       "dtype: float64"
      ]
     },
     "execution_count": 19,
     "metadata": {},
     "output_type": "execute_result"
    }
   ],
   "source": [
    "resid = lm_model.resid\n",
    "resid.head(3)\n"
   ]
  },
  {
   "cell_type": "code",
   "execution_count": 20,
   "id": "92b06acf-5a6b-4bc4-be96-278dd0dab13e",
   "metadata": {},
   "outputs": [
    {
     "data": {
      "text/plain": [
       "0    50.301481\n",
       "1    53.745905\n",
       "2    42.264491\n",
       "Name: temperature, dtype: float64"
      ]
     },
     "execution_count": 20,
     "metadata": {},
     "output_type": "execute_result"
    }
   ],
   "source": [
    "y_hat = beta0 + beta1 * beer.temperature\n",
    "y_hat.head(3)"
   ]
  },
  {
   "cell_type": "code",
   "execution_count": 21,
   "id": "d878e60f-d7fe-4c10-a76e-b9278f1398cb",
   "metadata": {},
   "outputs": [
    {
     "data": {
      "text/plain": [
       "0   -5.001481\n",
       "1    5.554095\n",
       "2   -1.864491\n",
       "dtype: float64"
      ]
     },
     "execution_count": 21,
     "metadata": {},
     "output_type": "execute_result"
    }
   ],
   "source": [
    "(beer.beer - y_hat).head(3)"
   ]
  },
  {
   "cell_type": "code",
   "execution_count": 22,
   "id": "d6e65617-98ba-4bc1-8bfe-8006c4fe7e38",
   "metadata": {},
   "outputs": [
    {
     "data": {
      "text/plain": [
       "0.504"
      ]
     },
     "execution_count": 22,
     "metadata": {},
     "output_type": "execute_result"
    }
   ],
   "source": [
    "mu = np.mean(beer.beer)\n",
    "y = beer.beer\n",
    "yhat = lm_model.predict( )\n",
    "np.sum((yhat - mu)**2) / np.sum((y - mu)**2)\n",
    "\n"
   ]
  },
  {
   "cell_type": "code",
   "execution_count": 23,
   "id": "1bded5e8-40f5-466b-879b-eef627e4be48",
   "metadata": {},
   "outputs": [
    {
     "data": {
      "text/plain": [
       "0.504"
      ]
     },
     "execution_count": 23,
     "metadata": {},
     "output_type": "execute_result"
    }
   ],
   "source": [
    "lm_model.rsquared"
   ]
  },
  {
   "cell_type": "code",
   "execution_count": 24,
   "id": "fe924bc5-c2fa-40e3-9297-1a43c45d8f38",
   "metadata": {},
   "outputs": [
    {
     "data": {
      "text/plain": [
       "0.486"
      ]
     },
     "execution_count": 24,
     "metadata": {},
     "output_type": "execute_result"
    }
   ],
   "source": [
    "n = len(beer.beer)\n",
    "s = 1\n",
    "1 - ((np.sum(resid**2) / (n - s - 1)) /(np.sum((y - mu)**2) / (n - 1)))"
   ]
  },
  {
   "cell_type": "code",
   "execution_count": 25,
   "id": "25a4f0d2-ef18-407c-8e47-90ad7abea183",
   "metadata": {},
   "outputs": [
    {
     "data": {
      "text/plain": [
       "0.486"
      ]
     },
     "execution_count": 25,
     "metadata": {},
     "output_type": "execute_result"
    }
   ],
   "source": [
    "lm_model.rsquared_adj\n"
   ]
  },
  {
   "cell_type": "code",
   "execution_count": 26,
   "id": "aa90652e-e33b-42c1-80ae-aeb1caf98daa",
   "metadata": {},
   "outputs": [
    {
     "name": "stderr",
     "output_type": "stream",
     "text": [
      "C:\\Users\\timet\\AppData\\Local\\Temp\\ipykernel_18800\\4261569918.py:1: UserWarning: \n",
      "\n",
      "`distplot` is a deprecated function and will be removed in seaborn v0.14.0.\n",
      "\n",
      "Please adapt your code to use either `displot` (a figure-level function with\n",
      "similar flexibility) or `histplot` (an axes-level function for histograms).\n",
      "\n",
      "For a guide to updating your code to use the new functions, please see\n",
      "https://gist.github.com/mwaskom/de44147ed2974457ad6372750bbe5751\n",
      "\n",
      "  sns.distplot(resid)\n"
     ]
    },
    {
     "data": {
      "text/plain": [
       "<Axes: ylabel='Density'>"
      ]
     },
     "execution_count": 26,
     "metadata": {},
     "output_type": "execute_result"
    },
    {
     "data": {
      "image/png": "[encoded data removed]",
      "text/plain": [
       "<Figure size 640x480 with 1 Axes>"
      ]
     },
     "metadata": {},
     "output_type": "display_data"
    }
   ],
   "source": [
    "sns.distplot(resid)\n"
   ]
  },
  {
   "cell_type": "code",
   "execution_count": 27,
   "id": "7e39464d-f986-4c7e-acce-ff08aa25bb0f",
   "metadata": {},
   "outputs": [
    {
     "data": {
      "image/png": "[encoded data removed]",
      "text/plain": [
       "<Figure size 640x480 with 1 Axes>"
      ]
     },
     "metadata": {},
     "output_type": "display_data"
    }
   ],
   "source": [
    "fig = sm.qqplot(resid, line = \"s\")\n"
   ]
  },
  {
   "cell_type": "code",
   "execution_count": 28,
   "id": "ba81d1b3-babe-49c0-b1bb-a0cfa655f608",
   "metadata": {},
   "outputs": [
    {
     "data": {
      "text/plain": [
       "3    -17.200217\n",
       "21   -14.501481\n",
       "12    -9.710106\n",
       "4     -9.703971\n",
       "10    -7.664418\n",
       "dtype: float64"
      ]
     },
     "execution_count": 28,
     "metadata": {},
     "output_type": "execute_result"
    }
   ],
   "source": [
    "resid_sort = resid.sort_values()\n",
    "resid_sort.head( )\n"
   ]
  },
  {
   "cell_type": "code",
   "execution_count": 29,
   "id": "285bca04-728e-4f53-a14c-8f32bc2e7afc",
   "metadata": {},
   "outputs": [],
   "source": [
    "nobs = len(resid_sort)\n",
    "cdf = np.arange(1, nobs + 1) / (nobs + 1)"
   ]
  },
  {
   "cell_type": "code",
   "execution_count": 30,
   "id": "62b95030-0e46-4c87-9291-bd8969a83c4d",
   "metadata": {},
   "outputs": [],
   "source": [
    "ppf = stats.norm.ppf(cdf)"
   ]
  },
  {
   "cell_type": "code",
   "execution_count": 37,
   "id": "e731cd69-f55d-4caa-b6f4-6d526da1a7e9",
   "metadata": {},
   "outputs": [
    {
     "data": {
      "text/plain": [
       "<matplotlib.collections.PathCollection at 0x26667574bb0>"
      ]
     },
     "execution_count": 37,
     "metadata": {},
     "output_type": "execute_result"
    },
    {
     "data": {
      "image/png": "[encoded data removed]",
      "text/plain": [
       "<Figure size 640x480 with 1 Axes>"
      ]
     },
     "metadata": {},
     "output_type": "display_data"
    }
   ],
   "source": [
    "plt.scatter(ppf, resid_sort)"
   ]
  },
  {
   "cell_type": "code",
   "execution_count": 39,
   "id": "deb2613d-f6f0-456c-99d1-b48c42f1ec37",
   "metadata": {},
   "outputs": [],
   "source": [
    "weather = [\n",
    "\"cloudy\",\n",
    "\"cloudy\",\n",
    "\"rainy\",\n",
    "\"rainy\",\n",
    "\"sunny\",\n",
    "\"sunny\"\n",
    "]\n",
    "beer = [6,8,2,4,10,12]\n",
    "# DataFrame으로 결합\n",
    "weather_beer =pd.DataFrame({\n",
    "\"beer\" : beer,\n",
    "\"weather\": weather\n",
    "})"
   ]
  },
  {
   "cell_type": "code",
   "execution_count": 40,
   "id": "f5e78922-5021-452d-8420-f6a4e564cbd5",
   "metadata": {},
   "outputs": [
    {
     "name": "stdout",
     "output_type": "stream",
     "text": [
      "         beer\n",
      "weather      \n",
      "cloudy    7.0\n",
      "rainy     3.0\n",
      "sunny    11.0\n"
     ]
    }
   ],
   "source": [
    "print(weather_beer.groupby(\"weather\").mean())"
   ]
  },
  {
   "cell_type": "code",
   "execution_count": 41,
   "id": "b9e84c95-7bd8-4092-b587-6952cd5d4c98",
   "metadata": {},
   "outputs": [],
   "source": [
    "effect = [7,7,3,3,11,11]\n",
    "mu_effect = np.mean(effect)\n",
    "squares_model = np.sum((effect - mu_effect) ** 2 )"
   ]
  },
  {
   "cell_type": "code",
   "execution_count": 42,
   "id": "7f2e4242-454d-4dcf-b2e4-9e1233a9e17b",
   "metadata": {},
   "outputs": [],
   "source": [
    "resid = weather_beer.beer - effect"
   ]
  },
  {
   "cell_type": "code",
   "execution_count": 43,
   "id": "0483d21e-51c1-4a1d-88ab-953d74995498",
   "metadata": {},
   "outputs": [
    {
     "data": {
      "text/plain": [
       "6"
      ]
     },
     "execution_count": 43,
     "metadata": {},
     "output_type": "execute_result"
    }
   ],
   "source": [
    "squares_resid = np.sum(resid ** 2)\n",
    "squares_resid\n"
   ]
  },
  {
   "cell_type": "code",
   "execution_count": 44,
   "id": "28c2b383-efb1-48b9-8f24-72363985e963",
   "metadata": {},
   "outputs": [],
   "source": [
    "df_model = 2 # 군간 변동의 자유도\n",
    "df_resid = 3 "
   ]
  },
  {
   "cell_type": "code",
   "execution_count": 45,
   "id": "8a213334-1d44-4082-98ab-f5d62fed0c7e",
   "metadata": {},
   "outputs": [
    {
     "data": {
      "text/plain": [
       "32.000"
      ]
     },
     "execution_count": 45,
     "metadata": {},
     "output_type": "execute_result"
    }
   ],
   "source": [
    "variance_model = squares_model / df_model\n",
    "variance_model\n"
   ]
  },
  {
   "cell_type": "code",
   "execution_count": 46,
   "id": "078122f9-3b38-4858-9392-1caec0d15a84",
   "metadata": {},
   "outputs": [
    {
     "data": {
      "text/plain": [
       "2.000"
      ]
     },
     "execution_count": 46,
     "metadata": {},
     "output_type": "execute_result"
    }
   ],
   "source": [
    "variance_resid = squares_resid / df_resid\n",
    "variance_resid\n"
   ]
  },
  {
   "cell_type": "code",
   "execution_count": 47,
   "id": "8dd92e90-4e21-460c-9402-2d40fedd3cbb",
   "metadata": {},
   "outputs": [],
   "source": [
    "f_ratio = variance_model / variance_resid"
   ]
  },
  {
   "cell_type": "code",
   "execution_count": 48,
   "id": "2e3048d7-cfff-42d1-ac26-c89d20cc41ef",
   "metadata": {},
   "outputs": [
    {
     "data": {
      "text/plain": [
       "0.025"
      ]
     },
     "execution_count": 48,
     "metadata": {},
     "output_type": "execute_result"
    }
   ],
   "source": [
    "1 - sp.stats.f.cdf (x = f_ratio, dfn = df_model, dfd = df_resid)"
   ]
  },
  {
   "cell_type": "code",
   "execution_count": null,
   "id": "d01a8f5c-6e2c-4333-9e61-7c208bce7377",
   "metadata": {},
   "outputs": [],
   "source": []
  }
 ],
 "metadata": {
  "kernelspec": {
   "display_name": "Python 3 (ipykernel)",
   "language": "python",
   "name": "python3"
  },
  "language_info": {
   "codemirror_mode": {
    "name": "ipython",
    "version": 3
   },
   "file_extension": ".py",
   "mimetype": "text/x-python",
   "name": "python",
   "nbconvert_exporter": "python",
   "pygments_lexer": "ipython3",
   "version": "3.8.16"
  }
 },
 "nbformat": 4,
 "nbformat_minor": 5
}
