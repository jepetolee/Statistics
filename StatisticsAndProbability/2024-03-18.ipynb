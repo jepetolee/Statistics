{
 "cells": [
  {
   "cell_type": "code",
   "execution_count": 50,
   "id": "031d80b5",
   "metadata": {},
   "outputs": [],
   "source": [
    "import numpy as np\n",
    "%precision 3 # \"%.3f\"\n",
    "import scipy as sp"
   ]
  },
  {
   "cell_type": "markdown",
   "id": "2958284e",
   "metadata": {},
   "source": [
    "## Elementry Calculate"
   ]
  },
  {
   "cell_type": "code",
   "execution_count": 51,
   "id": "12626368",
   "metadata": {},
   "outputs": [],
   "source": [
    "fish_data  =np.array([2,3,3,4,4,4,4,5,5,6])"
   ]
  },
  {
   "cell_type": "code",
   "execution_count": 52,
   "id": "2067e858",
   "metadata": {},
   "outputs": [
    {
     "data": {
      "text/plain": [
       "40"
      ]
     },
     "execution_count": 52,
     "metadata": {},
     "output_type": "execute_result"
    }
   ],
   "source": [
    "np.sum(fish_data)"
   ]
  },
  {
   "cell_type": "code",
   "execution_count": 53,
   "id": "0ada05bb",
   "metadata": {},
   "outputs": [
    {
     "name": "stdout",
     "output_type": "stream",
     "text": [
      "40\n",
      "40\n"
     ]
    },
    {
     "data": {
      "text/plain": [
       "40"
      ]
     },
     "execution_count": 53,
     "metadata": {},
     "output_type": "execute_result"
    }
   ],
   "source": [
    "print(np.sum(fish_data))\n",
    "print(sum(fish_data))\n",
    "fish_data.sum()"
   ]
  },
  {
   "cell_type": "code",
   "execution_count": 54,
   "id": "4d085f7a",
   "metadata": {},
   "outputs": [
    {
     "data": {
      "text/plain": [
       "10"
      ]
     },
     "execution_count": 54,
     "metadata": {},
     "output_type": "execute_result"
    }
   ],
   "source": [
    "len(fish_data)"
   ]
  },
  {
   "cell_type": "markdown",
   "id": "16deb5e8",
   "metadata": {},
   "source": [
    "## Fish Data's Mean"
   ]
  },
  {
   "cell_type": "code",
   "execution_count": 55,
   "id": "2f54f4e0",
   "metadata": {},
   "outputs": [
    {
     "data": {
      "text/plain": [
       "3 # \"4.000\""
      ]
     },
     "execution_count": 55,
     "metadata": {},
     "output_type": "execute_result"
    }
   ],
   "source": [
    "NumbersOfFishdata = len(fish_data)\n",
    "sum_value = np.sum(fish_data)\n",
    "mu = sum_value/NumbersOfFishdata\n",
    "mu"
   ]
  },
  {
   "cell_type": "code",
   "execution_count": 56,
   "id": "ac5d9f9f",
   "metadata": {},
   "outputs": [
    {
     "data": {
      "text/plain": [
       "3 # \"4.000\""
      ]
     },
     "execution_count": 56,
     "metadata": {},
     "output_type": "execute_result"
    }
   ],
   "source": [
    "np.mean(fish_data)"
   ]
  },
  {
   "cell_type": "code",
   "execution_count": 57,
   "id": "014a2aee",
   "metadata": {},
   "outputs": [
    {
     "data": {
      "text/plain": [
       "3 # \"4.000\""
      ]
     },
     "execution_count": 57,
     "metadata": {},
     "output_type": "execute_result"
    }
   ],
   "source": [
    "fish_data.mean()"
   ]
  },
  {
   "cell_type": "markdown",
   "id": "6ad1659c",
   "metadata": {},
   "source": [
    "## STD"
   ]
  },
  {
   "cell_type": "code",
   "execution_count": 58,
   "id": "c48bf92b",
   "metadata": {},
   "outputs": [
    {
     "data": {
      "text/plain": [
       "3 # \"1.200\""
      ]
     },
     "execution_count": 58,
     "metadata": {},
     "output_type": "execute_result"
    }
   ],
   "source": [
    "sigma_2_sample = np.sum((fish_data -mu)**2)/NumbersOfFishdata\n",
    "sigma_2_sample"
   ]
  },
  {
   "cell_type": "code",
   "execution_count": 59,
   "id": "71bd5455",
   "metadata": {},
   "outputs": [
    {
     "data": {
      "text/plain": [
       "array([-2., -1., -1.,  0.,  0.,  0.,  0.,  1.,  1.,  2.])"
      ]
     },
     "execution_count": 59,
     "metadata": {},
     "output_type": "execute_result"
    }
   ],
   "source": [
    "fish_data -mu"
   ]
  },
  {
   "cell_type": "code",
   "execution_count": 60,
   "id": "e02f55d2",
   "metadata": {},
   "outputs": [
    {
     "data": {
      "text/plain": [
       "array([4., 1., 1., 0., 0., 0., 0., 1., 1., 4.])"
      ]
     },
     "execution_count": 60,
     "metadata": {},
     "output_type": "execute_result"
    }
   ],
   "source": [
    "(fish_data -mu)**2"
   ]
  },
  {
   "cell_type": "code",
   "execution_count": 61,
   "id": "99898c4e",
   "metadata": {},
   "outputs": [
    {
     "data": {
      "text/plain": [
       "3 # \"12.000\""
      ]
     },
     "execution_count": 61,
     "metadata": {},
     "output_type": "execute_result"
    }
   ],
   "source": [
    "np.sum((fish_data -mu)**2)"
   ]
  },
  {
   "cell_type": "code",
   "execution_count": 62,
   "id": "3e506b68",
   "metadata": {},
   "outputs": [
    {
     "data": {
      "text/plain": [
       "3 # \"1.200\""
      ]
     },
     "execution_count": 62,
     "metadata": {},
     "output_type": "execute_result"
    }
   ],
   "source": [
    "np.var(fish_data,ddof=0) #DDOF means Unbiased One"
   ]
  },
  {
   "cell_type": "code",
   "execution_count": 87,
   "id": "75302371",
   "metadata": {},
   "outputs": [
    {
     "data": {
      "text/plain": [
       "3 # \"1.333\""
      ]
     },
     "execution_count": 87,
     "metadata": {},
     "output_type": "execute_result"
    }
   ],
   "source": [
    "sigma_2 = np.sum((fish_data - mu) ** 2) / (NumbersOfFishdata - 1)\n",
    "sigma_2"
   ]
  },
  {
   "cell_type": "markdown",
   "id": "47c41557",
   "metadata": {},
   "source": [
    "## DDOF"
   ]
  },
  {
   "cell_type": "code",
   "execution_count": 88,
   "id": "828f6d4f",
   "metadata": {},
   "outputs": [
    {
     "data": {
      "text/plain": [
       "3 # \"1.333\""
      ]
     },
     "execution_count": 88,
     "metadata": {},
     "output_type": "execute_result"
    }
   ],
   "source": [
    "np.var(fish_data,ddof=1) #DDOF means Unbiased One | Delta. Degree. Of. Freedom."
   ]
  },
  {
   "cell_type": "code",
   "execution_count": 89,
   "id": "c8c75ccf",
   "metadata": {},
   "outputs": [
    {
     "data": {
      "text/plain": [
       "3 # \"1.500\""
      ]
     },
     "execution_count": 89,
     "metadata": {},
     "output_type": "execute_result"
    }
   ],
   "source": [
    "np.var(fish_data,ddof=2) #DDOF means Unbiased One"
   ]
  },
  {
   "cell_type": "code",
   "execution_count": 90,
   "id": "10994468",
   "metadata": {},
   "outputs": [
    {
     "name": "stdout",
     "output_type": "stream",
     "text": [
      "1.1547005383792515\n"
     ]
    },
    {
     "data": {
      "text/plain": [
       "3 # \"1.155\""
      ]
     },
     "execution_count": 90,
     "metadata": {},
     "output_type": "execute_result"
    }
   ],
   "source": [
    "sigma = np.sqrt(sigma_2)\n",
    "print(sigma)\n",
    "np.std(fish_data,ddof=1)"
   ]
  },
  {
   "cell_type": "code",
   "execution_count": 67,
   "id": "39a19776",
   "metadata": {},
   "outputs": [
    {
     "data": {
      "text/plain": [
       "array([-2., -1., -1.,  0.,  0.,  0.,  0.,  1.,  1.,  2.])"
      ]
     },
     "execution_count": 67,
     "metadata": {},
     "output_type": "execute_result"
    }
   ],
   "source": [
    "fish_data - mu"
   ]
  },
  {
   "cell_type": "code",
   "execution_count": 68,
   "id": "a23265bd",
   "metadata": {},
   "outputs": [
    {
     "data": {
      "text/plain": [
       "3 # \"0.000\""
      ]
     },
     "execution_count": 68,
     "metadata": {},
     "output_type": "execute_result"
    }
   ],
   "source": [
    "np.mean(fish_data -mu )"
   ]
  },
  {
   "cell_type": "code",
   "execution_count": 91,
   "id": "3fefc4cd",
   "metadata": {},
   "outputs": [
    {
     "data": {
      "text/plain": [
       "array([1.73205081, 2.59807621, 2.59807621, 3.46410162, 3.46410162,\n",
       "       3.46410162, 3.46410162, 4.33012702, 4.33012702, 5.19615242])"
      ]
     },
     "execution_count": 91,
     "metadata": {},
     "output_type": "execute_result"
    }
   ],
   "source": [
    "fish_data/sigma"
   ]
  },
  {
   "cell_type": "code",
   "execution_count": 92,
   "id": "d42d3d83",
   "metadata": {},
   "outputs": [
    {
     "data": {
      "text/plain": [
       "3 # \"1.000\""
      ]
     },
     "execution_count": 92,
     "metadata": {},
     "output_type": "execute_result"
    }
   ],
   "source": [
    "np.std(fish_data/sigma,ddof=1)"
   ]
  },
  {
   "cell_type": "code",
   "execution_count": 94,
   "id": "f7b778ff",
   "metadata": {
    "scrolled": true
   },
   "outputs": [
    {
     "data": {
      "text/plain": [
       "array([-1.73205081, -0.8660254 , -0.8660254 ,  0.        ,  0.        ,\n",
       "        0.        ,  0.        ,  0.8660254 ,  0.8660254 ,  1.73205081])"
      ]
     },
     "execution_count": 94,
     "metadata": {},
     "output_type": "execute_result"
    }
   ],
   "source": [
    "standard = (fish_data -mu)/sigma\n",
    "standard"
   ]
  },
  {
   "cell_type": "code",
   "execution_count": 95,
   "id": "d33689c4",
   "metadata": {},
   "outputs": [
    {
     "data": {
      "text/plain": [
       "3 # \"0.000\""
      ]
     },
     "execution_count": 95,
     "metadata": {},
     "output_type": "execute_result"
    }
   ],
   "source": [
    "np.mean(standard)"
   ]
  },
  {
   "cell_type": "code",
   "execution_count": 96,
   "id": "163c6c5f",
   "metadata": {},
   "outputs": [
    {
     "data": {
      "text/plain": [
       "3 # \"1.000\""
      ]
     },
     "execution_count": 96,
     "metadata": {},
     "output_type": "execute_result"
    }
   ],
   "source": [
    "np.std(standard,ddof=1)"
   ]
  },
  {
   "cell_type": "code",
   "execution_count": 97,
   "id": "dec3e007",
   "metadata": {},
   "outputs": [
    {
     "data": {
      "text/plain": [
       "3 # \"1.000\""
      ]
     },
     "execution_count": 97,
     "metadata": {},
     "output_type": "execute_result"
    }
   ],
   "source": [
    "np.std(fish_data/sigma,ddof=1)"
   ]
  },
  {
   "cell_type": "code",
   "execution_count": 98,
   "id": "e1463928",
   "metadata": {},
   "outputs": [
    {
     "data": {
      "text/plain": [
       "3 # \"4.000\""
      ]
     },
     "execution_count": 98,
     "metadata": {},
     "output_type": "execute_result"
    }
   ],
   "source": [
    "np.median(fish_data)"
   ]
  },
  {
   "cell_type": "code",
   "execution_count": 76,
   "id": "8796db5f",
   "metadata": {},
   "outputs": [],
   "source": [
    "fish_data2 = np.array([2,3,3,4,4,4,4,5,5,100])"
   ]
  },
  {
   "cell_type": "code",
   "execution_count": 77,
   "id": "fa3de031",
   "metadata": {},
   "outputs": [
    {
     "data": {
      "text/plain": [
       "3 # \"13.400\""
      ]
     },
     "execution_count": 77,
     "metadata": {},
     "output_type": "execute_result"
    }
   ],
   "source": [
    "np.mean(fish_data2)"
   ]
  },
  {
   "cell_type": "code",
   "execution_count": 78,
   "id": "151f7c67",
   "metadata": {},
   "outputs": [
    {
     "data": {
      "text/plain": [
       "3 # \"4.000\""
      ]
     },
     "execution_count": 78,
     "metadata": {},
     "output_type": "execute_result"
    }
   ],
   "source": [
    "np.median(fish_data2)"
   ]
  },
  {
   "cell_type": "code",
   "execution_count": 79,
   "id": "494e7a36",
   "metadata": {},
   "outputs": [],
   "source": [
    "from scipy import stats"
   ]
  },
  {
   "cell_type": "code",
   "execution_count": 80,
   "id": "4804c276",
   "metadata": {},
   "outputs": [],
   "source": [
    "fish_data_3 = np.array([1,2,3,4,5,6,7,8,9])"
   ]
  },
  {
   "cell_type": "code",
   "execution_count": 81,
   "id": "1eb0f202",
   "metadata": {},
   "outputs": [
    {
     "data": {
      "text/plain": [
       "3 # \"3.000\""
      ]
     },
     "execution_count": 81,
     "metadata": {},
     "output_type": "execute_result"
    }
   ],
   "source": [
    "stats.scoreatpercentile(fish_data_3,25)"
   ]
  },
  {
   "cell_type": "code",
   "execution_count": 82,
   "id": "365c2998",
   "metadata": {},
   "outputs": [
    {
     "data": {
      "text/plain": [
       "3 # \"7.000\""
      ]
     },
     "execution_count": 82,
     "metadata": {},
     "output_type": "execute_result"
    }
   ],
   "source": [
    "stats.scoreatpercentile(fish_data_3,75)"
   ]
  },
  {
   "cell_type": "markdown",
   "id": "357cb72e",
   "metadata": {},
   "source": [
    "## Tidy Data : 분석이 쉽도록 정리된 표 형식의 데이터\n",
    "\n",
    "### Wickham ( 2014 )\n",
    "#### • 다음의 4 가지 특징을 가지고 있다.\n",
    "##### 1. 개별 값이 하나의 셀을 이룬다.\n",
    "##### 2. 개별 변수가 하나의 열을 이룬다\n",
    "##### 3. 개별 관측이 하나의 행을 이룬다\n",
    "##### 4. 개별 관측 장치의 유형이 하나의 표를 이룬다."
   ]
  },
  {
   "cell_type": "code",
   "execution_count": 83,
   "id": "648abf6c",
   "metadata": {},
   "outputs": [],
   "source": [
    "import pandas as pd"
   ]
  },
  {
   "cell_type": "code",
   "execution_count": 84,
   "id": "42f75a69",
   "metadata": {},
   "outputs": [
    {
     "name": "stdout",
     "output_type": "stream",
     "text": [
      "  species  length\n",
      "0       A       2\n",
      "1       A       3\n",
      "2       A       4\n",
      "3       B       6\n",
      "4       B       8\n",
      "5       B      10\n"
     ]
    }
   ],
   "source": [
    "fish_multi = pd.read_csv(\"3-2-1fish_multi.csv\")\n",
    "print(fish_multi)"
   ]
  },
  {
   "cell_type": "markdown",
   "id": "1ff1f82c",
   "metadata": {},
   "source": [
    "in Colab,\n",
    "\n",
    "from google.colab import drive\n",
    "drive.mount('/content/drive')\n",
    "\n",
    "--> Mounted at /content/drive\n",
    "\n",
    "!pwd\n",
    "--> content\n",
    "\n",
    "!ls ./drive/MyDrive -la"
   ]
  },
  {
   "cell_type": "code",
   "execution_count": 48,
   "id": "3781cc32",
   "metadata": {},
   "outputs": [
    {
     "data": {
      "text/html": [
       "<div>\n",
       "<style scoped>\n",
       "    .dataframe tbody tr th:only-of-type {\n",
       "        vertical-align: middle;\n",
       "    }\n",
       "\n",
       "    .dataframe tbody tr th {\n",
       "        vertical-align: top;\n",
       "    }\n",
       "\n",
       "    .dataframe thead th {\n",
       "        text-align: right;\n",
       "    }\n",
       "</style>\n",
       "<table border=\"1\" class=\"dataframe\">\n",
       "  <thead>\n",
       "    <tr style=\"text-align: right;\">\n",
       "      <th></th>\n",
       "      <th>species</th>\n",
       "      <th>length</th>\n",
       "    </tr>\n",
       "  </thead>\n",
       "  <tbody>\n",
       "    <tr>\n",
       "      <th>0</th>\n",
       "      <td>A</td>\n",
       "      <td>2</td>\n",
       "    </tr>\n",
       "    <tr>\n",
       "      <th>1</th>\n",
       "      <td>A</td>\n",
       "      <td>3</td>\n",
       "    </tr>\n",
       "    <tr>\n",
       "      <th>2</th>\n",
       "      <td>A</td>\n",
       "      <td>4</td>\n",
       "    </tr>\n",
       "    <tr>\n",
       "      <th>3</th>\n",
       "      <td>B</td>\n",
       "      <td>6</td>\n",
       "    </tr>\n",
       "    <tr>\n",
       "      <th>4</th>\n",
       "      <td>B</td>\n",
       "      <td>8</td>\n",
       "    </tr>\n",
       "    <tr>\n",
       "      <th>5</th>\n",
       "      <td>B</td>\n",
       "      <td>10</td>\n",
       "    </tr>\n",
       "  </tbody>\n",
       "</table>\n",
       "</div>"
      ],
      "text/plain": [
       "  species  length\n",
       "0       A       2\n",
       "1       A       3\n",
       "2       A       4\n",
       "3       B       6\n",
       "4       B       8\n",
       "5       B      10"
      ]
     },
     "execution_count": 48,
     "metadata": {},
     "output_type": "execute_result"
    }
   ],
   "source": [
    "fish_multi"
   ]
  },
  {
   "cell_type": "code",
   "execution_count": 101,
   "id": "49adca20",
   "metadata": {},
   "outputs": [
    {
     "data": {
      "text/html": [
       "<div>\n",
       "<style scoped>\n",
       "    .dataframe tbody tr th:only-of-type {\n",
       "        vertical-align: middle;\n",
       "    }\n",
       "\n",
       "    .dataframe tbody tr th {\n",
       "        vertical-align: top;\n",
       "    }\n",
       "\n",
       "    .dataframe thead th {\n",
       "        text-align: right;\n",
       "    }\n",
       "</style>\n",
       "<table border=\"1\" class=\"dataframe\">\n",
       "  <thead>\n",
       "    <tr style=\"text-align: right;\">\n",
       "      <th></th>\n",
       "      <th>length</th>\n",
       "    </tr>\n",
       "    <tr>\n",
       "      <th>species</th>\n",
       "      <th></th>\n",
       "    </tr>\n",
       "  </thead>\n",
       "  <tbody>\n",
       "    <tr>\n",
       "      <th>A</th>\n",
       "      <td>3.0</td>\n",
       "    </tr>\n",
       "    <tr>\n",
       "      <th>B</th>\n",
       "      <td>8.0</td>\n",
       "    </tr>\n",
       "  </tbody>\n",
       "</table>\n",
       "</div>"
      ],
      "text/plain": [
       "         length\n",
       "species        \n",
       "A           3.0\n",
       "B           8.0"
      ]
     },
     "execution_count": 101,
     "metadata": {},
     "output_type": "execute_result"
    }
   ],
   "source": [
    "group = fish_multi.groupby(\"species\")\n",
    "group.mean()"
   ]
  },
  {
   "cell_type": "code",
   "execution_count": 102,
   "id": "2921ef2f",
   "metadata": {},
   "outputs": [
    {
     "data": {
      "text/html": [
       "<div>\n",
       "<style scoped>\n",
       "    .dataframe tbody tr th:only-of-type {\n",
       "        vertical-align: middle;\n",
       "    }\n",
       "\n",
       "    .dataframe tbody tr th {\n",
       "        vertical-align: top;\n",
       "    }\n",
       "\n",
       "    .dataframe thead th {\n",
       "        text-align: right;\n",
       "    }\n",
       "</style>\n",
       "<table border=\"1\" class=\"dataframe\">\n",
       "  <thead>\n",
       "    <tr style=\"text-align: right;\">\n",
       "      <th></th>\n",
       "      <th>length</th>\n",
       "    </tr>\n",
       "    <tr>\n",
       "      <th>species</th>\n",
       "      <th></th>\n",
       "    </tr>\n",
       "  </thead>\n",
       "  <tbody>\n",
       "    <tr>\n",
       "      <th>A</th>\n",
       "      <td>1.0</td>\n",
       "    </tr>\n",
       "    <tr>\n",
       "      <th>B</th>\n",
       "      <td>2.0</td>\n",
       "    </tr>\n",
       "  </tbody>\n",
       "</table>\n",
       "</div>"
      ],
      "text/plain": [
       "         length\n",
       "species        \n",
       "A           1.0\n",
       "B           2.0"
      ]
     },
     "execution_count": 102,
     "metadata": {},
     "output_type": "execute_result"
    }
   ],
   "source": [
    "group.std(ddof = 1)"
   ]
  },
  {
   "cell_type": "code",
   "execution_count": 103,
   "id": "85cf4d3a",
   "metadata": {},
   "outputs": [
    {
     "data": {
      "text/html": [
       "<div>\n",
       "<style scoped>\n",
       "    .dataframe tbody tr th:only-of-type {\n",
       "        vertical-align: middle;\n",
       "    }\n",
       "\n",
       "    .dataframe tbody tr th {\n",
       "        vertical-align: top;\n",
       "    }\n",
       "\n",
       "    .dataframe thead tr th {\n",
       "        text-align: left;\n",
       "    }\n",
       "\n",
       "    .dataframe thead tr:last-of-type th {\n",
       "        text-align: right;\n",
       "    }\n",
       "</style>\n",
       "<table border=\"1\" class=\"dataframe\">\n",
       "  <thead>\n",
       "    <tr>\n",
       "      <th></th>\n",
       "      <th colspan=\"8\" halign=\"left\">length</th>\n",
       "    </tr>\n",
       "    <tr>\n",
       "      <th></th>\n",
       "      <th>count</th>\n",
       "      <th>mean</th>\n",
       "      <th>std</th>\n",
       "      <th>min</th>\n",
       "      <th>25%</th>\n",
       "      <th>50%</th>\n",
       "      <th>75%</th>\n",
       "      <th>max</th>\n",
       "    </tr>\n",
       "    <tr>\n",
       "      <th>species</th>\n",
       "      <th></th>\n",
       "      <th></th>\n",
       "      <th></th>\n",
       "      <th></th>\n",
       "      <th></th>\n",
       "      <th></th>\n",
       "      <th></th>\n",
       "      <th></th>\n",
       "    </tr>\n",
       "  </thead>\n",
       "  <tbody>\n",
       "    <tr>\n",
       "      <th>A</th>\n",
       "      <td>3.0</td>\n",
       "      <td>3.0</td>\n",
       "      <td>1.0</td>\n",
       "      <td>2.0</td>\n",
       "      <td>2.5</td>\n",
       "      <td>3.0</td>\n",
       "      <td>3.5</td>\n",
       "      <td>4.0</td>\n",
       "    </tr>\n",
       "    <tr>\n",
       "      <th>B</th>\n",
       "      <td>3.0</td>\n",
       "      <td>8.0</td>\n",
       "      <td>2.0</td>\n",
       "      <td>6.0</td>\n",
       "      <td>7.0</td>\n",
       "      <td>8.0</td>\n",
       "      <td>9.0</td>\n",
       "      <td>10.0</td>\n",
       "    </tr>\n",
       "  </tbody>\n",
       "</table>\n",
       "</div>"
      ],
      "text/plain": [
       "        length                                    \n",
       "         count mean  std  min  25%  50%  75%   max\n",
       "species                                           \n",
       "A          3.0  3.0  1.0  2.0  2.5  3.0  3.5   4.0\n",
       "B          3.0  8.0  2.0  6.0  7.0  8.0  9.0  10.0"
      ]
     },
     "execution_count": 103,
     "metadata": {},
     "output_type": "execute_result"
    }
   ],
   "source": [
    "group.describe()\n"
   ]
  },
  {
   "cell_type": "code",
   "execution_count": 104,
   "id": "f3055f49",
   "metadata": {},
   "outputs": [
    {
     "name": "stdout",
     "output_type": "stream",
     "text": [
      "   Unnamed: 0  store color  sales\n",
      "0           0  seoul  blue     10\n",
      "1           1  seoul   red     15\n",
      "2           2  pusan  blue     13\n",
      "3           3  pusan   red      9\n"
     ]
    }
   ],
   "source": [
    "shoes = pd.read_csv(\"3-2-2-shoes.csv\")\n",
    "print(shoes)\n"
   ]
  },
  {
   "cell_type": "code",
   "execution_count": 105,
   "id": "36249c0e",
   "metadata": {},
   "outputs": [
    {
     "data": {
      "text/html": [
       "<div>\n",
       "<style scoped>\n",
       "    .dataframe tbody tr th:only-of-type {\n",
       "        vertical-align: middle;\n",
       "    }\n",
       "\n",
       "    .dataframe tbody tr th {\n",
       "        vertical-align: top;\n",
       "    }\n",
       "\n",
       "    .dataframe thead th {\n",
       "        text-align: right;\n",
       "    }\n",
       "</style>\n",
       "<table border=\"1\" class=\"dataframe\">\n",
       "  <thead>\n",
       "    <tr style=\"text-align: right;\">\n",
       "      <th>color</th>\n",
       "      <th>blue</th>\n",
       "      <th>red</th>\n",
       "    </tr>\n",
       "    <tr>\n",
       "      <th>store</th>\n",
       "      <th></th>\n",
       "      <th></th>\n",
       "    </tr>\n",
       "  </thead>\n",
       "  <tbody>\n",
       "    <tr>\n",
       "      <th>pusan</th>\n",
       "      <td>13</td>\n",
       "      <td>9</td>\n",
       "    </tr>\n",
       "    <tr>\n",
       "      <th>seoul</th>\n",
       "      <td>10</td>\n",
       "      <td>15</td>\n",
       "    </tr>\n",
       "  </tbody>\n",
       "</table>\n",
       "</div>"
      ],
      "text/plain": [
       "color  blue  red\n",
       "store           \n",
       "pusan    13    9\n",
       "seoul    10   15"
      ]
     },
     "execution_count": 105,
     "metadata": {},
     "output_type": "execute_result"
    }
   ],
   "source": [
    "cross = pd.pivot_table(\n",
    "data = shoes, # 데이터 지정\n",
    "values = \"sales\", # 집계 대상\n",
    "aggfunc = \"sum\", # 집계 위한 함수\n",
    "index = \"store\", # 교차 테이블의 행 지정\n",
    "columns = \"color\" # 교차 테이블의 열을 지정\n",
    ")\n",
    "cross"
   ]
  },
  {
   "cell_type": "markdown",
   "id": "00e266b3",
   "metadata": {},
   "source": []
  }
 ],
 "metadata": {
  "kernelspec": {
   "display_name": "Python 3 (ipykernel)",
   "language": "python",
   "name": "python3"
  },
  "language_info": {
   "codemirror_mode": {
    "name": "ipython",
    "version": 3
   },
   "file_extension": ".py",
   "mimetype": "text/x-python",
   "name": "python",
   "nbconvert_exporter": "python",
   "pygments_lexer": "ipython3",
   "version": "3.8.16"
  }
 },
 "nbformat": 4,
 "nbformat_minor": 5
}
